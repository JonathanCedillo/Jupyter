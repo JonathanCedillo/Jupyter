{
 "cells": [
  {
   "cell_type": "code",
   "execution_count": 1,
   "metadata": {},
   "outputs": [
    {
     "data": {
      "text/html": [
       "<script>\n",
       "code_show=true; \n",
       "function code_toggle() {\n",
       " if (code_show){\n",
       " $('div.input').hide();\n",
       " } else {\n",
       " $('div.input').show();\n",
       " }\n",
       " code_show = !code_show\n",
       "} \n",
       "$( document ).ready(code_toggle);\n",
       "</script>\n",
       "The raw code for this IPython notebook is by default hidden for easier reading.\n",
       "To toggle on/off the raw code, click <a href=\"javascript:code_toggle()\">here</a>."
      ],
      "text/plain": [
       "<IPython.core.display.HTML object>"
      ]
     },
     "execution_count": 1,
     "metadata": {},
     "output_type": "execute_result"
    }
   ],
   "source": [
    "from IPython.display import HTML\n",
    "HTML('''<script>\n",
    "code_show=true; \n",
    "function code_toggle() {\n",
    " if (code_show){\n",
    " $('div.input').hide();\n",
    " } else {\n",
    " $('div.input').show();\n",
    " }\n",
    " code_show = !code_show\n",
    "} \n",
    "$( document ).ready(code_toggle);\n",
    "</script>\n",
    "The raw code for this IPython notebook is by default hidden for easier reading.\n",
    "To toggle on/off the raw code, click <a href=\"javascript:code_toggle()\">here</a>.''')"
   ]
  },
  {
   "cell_type": "markdown",
   "metadata": {},
   "source": [
    "###### Jonathan Samuel Cedillo Belmán A01377844\n",
    "###### Julio César González Menéndez A0376667\n",
    "###### Ethan Isaac Bautista Trevizo A01379696"
   ]
  },
  {
   "cell_type": "markdown",
   "metadata": {},
   "source": [
    "# Asymptotic Bounds"
   ]
  },
  {
   "cell_type": "markdown",
   "metadata": {},
   "source": [
    "### Assign the values given the following problem\n",
    "\n",
    "Consider the following system with these properties:\n",
    "* Observation interval: 1 hour\n",
    "* Active terminals:  45\n",
    "* Think time: 18 seconds\n",
    "* Completed transactions: 1,600\n",
    "* Disk 1 accesses: 36,000\n",
    "* Disk 2 accesses: 28,000\n",
    "* Disk 3 accesses: 14,000\n",
    "* Disk 1 busy time: 920 seconds\n",
    "* Disk 2 busy time: 760 seconds\n",
    "* Disk 3 busy time: 400 seconds"
   ]
  },
  {
   "cell_type": "code",
   "execution_count": 2,
   "metadata": {},
   "outputs": [
    {
     "name": "stdout",
     "output_type": "stream",
     "text": [
      "Introduce the value of T (seconds): 3600\n",
      "Introduce the value of N (transactions): 45\n",
      "Introduce the value of Z (seconds): 18\n",
      "Introduce the value of C (transactions): 1600\n",
      "Introduce the value of C1 (accesses): 36000\n",
      "Introduce the value of C2 (accesses): 28000\n",
      "Introduce the value of C3 (accesses): 14000\n",
      "Introduce the value of B1 (seconds): 920\n",
      "Introduce the value of B2 (seconds): 760\n",
      "Introduce the value of B3 (seconds): 400\n"
     ]
    }
   ],
   "source": [
    "tUnit = \"seconds\"\n",
    "sUnit = \"accesses\"\n",
    "bUnit = \"transactions\"\n",
    "sbUnit = \"accesses / transactions\"\n",
    "bsUnit = \"transactions / accesses\"\n",
    "tsUnit = \"seconds / accesses\"\n",
    "tbUnit = \"seconds / transactions\"\n",
    "btUnit = \"transactions / seconds\"\n",
    "\n",
    "iT = float(input(f\"Introduce the value of T ({tUnit}): \"))\n",
    "iN = float(input(f\"Introduce the value of N ({bUnit}): \"))\n",
    "iZ = float(input(f\"Introduce the value of Z ({tUnit}): \"))\n",
    "iC = float(input(f\"Introduce the value of C ({bUnit}): \"))\n",
    "iC1 = float(input(f\"Introduce the value of C1 ({sUnit}): \"))\n",
    "iC2 = float(input(f\"Introduce the value of C2 ({sUnit}): \"))\n",
    "iC3 = float(input(f\"Introduce the value of C3 ({sUnit}): \"))\n",
    "iB1 = float(input(f\"Introduce the value of B1 ({tUnit}): \"))\n",
    "iB2 = float(input(f\"Introduce the value of B2 ({tUnit}): \"))\n",
    "iB3 = float(input(f\"Introduce the value of B3 ({tUnit}): \"))"
   ]
  },
  {
   "cell_type": "code",
   "execution_count": 3,
   "metadata": {},
   "outputs": [
    {
     "name": "stdout",
     "output_type": "stream",
     "text": [
      "Correct! The value of T is3600.0 seconds.\n",
      "\n",
      "Correct! The value of N is45.0 transactions.\n",
      "\n",
      "Correct! The value of Z is18.0 seconds.\n",
      "\n",
      "Correct! The value of C is1600.0 transactions.\n",
      "\n",
      "Correct! The value of C1 is36000.0 accesses.\n",
      "\n",
      "Correct! The value of C2 is28000.0 accesses.\n",
      "\n",
      "Correct! The value of C3 is14000.0 accesses.\n",
      "\n",
      "Correct! The value of B1 is920.0 seconds.\n",
      "\n",
      "Correct! The value of B2 is760.0 seconds.\n",
      "\n",
      "Correct! The value of B3 is400.0 seconds.\n",
      "\n"
     ]
    }
   ],
   "source": [
    "T = 3600.0\n",
    "N = 45.0\n",
    "Z = 18.0\n",
    "C = 1600.0\n",
    "C1 = 36000.0\n",
    "C2 = 28000.0\n",
    "C3 = 14000.0\n",
    "B1 = 920.0\n",
    "B2 = 760.0\n",
    "B3 = 400.0\n",
    "\n",
    "def checkValue(cValue, iValue, variable, units):\n",
    "    if abs(cValue - iValue) <= 0.0001:\n",
    "        print(f\"Correct! The value of {variable} is {iValue} {units}.\\n\")\n",
    "    else:\n",
    "        print(f\"Incorrect! The value of {variable} is not {iValue} {units}.\\nThe correct value is {round(cValue, 4)} {units}.\\n\")\n",
    "\n",
    "checkValue(T, iT, \"T\", tUnit)\n",
    "checkValue(N, iN, \"N\", bUnit)\n",
    "checkValue(Z, iZ, \"Z\", tUnit)\n",
    "checkValue(C, iC, \"C\", bUnit)\n",
    "checkValue(C1, iC1, \"C1\", sUnit)\n",
    "checkValue(C2, iC2, \"C2\", sUnit)\n",
    "checkValue(C3, iC3, \"C3\", sUnit)\n",
    "checkValue(B1, iB1, \"B1\", tUnit)\n",
    "checkValue(B2, iB2, \"B2\", tUnit)\n",
    "checkValue(B3, iB3, \"B3\", tUnit)\n",
    "\n",
    "V1 = (C1 / C)\n",
    "V2 = (C2 / C)\n",
    "V3 = (C3 / C)\n",
    "S1 = (B1 / C1)\n",
    "S2 = (B2 / C2)\n",
    "S3 = (B3 / C3)\n",
    "D1 = (B1 / C)\n",
    "D2 = (B2 / C)\n",
    "D3 = (B3 / C)\n",
    "Dmax = max(D1, D2, D3)\n",
    "D = D1 + D2 + D3"
   ]
  },
  {
   "cell_type": "markdown",
   "metadata": {},
   "source": [
    "### Determine the visit counts (*Vk*)\n",
    "\n",
    "Use the following formula:\n",
    "$$V_k= \\frac{C_k} {C}$$"
   ]
  },
  {
   "cell_type": "code",
   "execution_count": 4,
   "metadata": {},
   "outputs": [
    {
     "name": "stdout",
     "output_type": "stream",
     "text": [
      "Introduce the value of V1 (accesses / transactions): 22.5\n",
      "Correct! The value of V1 is22.5 accesses / transactions.\n",
      "\n",
      "The value of V2 is 17.5 accesses / transactions.\n",
      "\n",
      "The value of V3 is 8.75 accesses / transactions.\n",
      "\n"
     ]
    }
   ],
   "source": [
    "iV1 = float(input(f\"Introduce the value of V1 ({sbUnit}): \"))\n",
    "checkValue(V1, iV1, \"V1\", sbUnit)\n",
    "\n",
    "print(f\"The value of V2 is {round(V2, 4)} {sbUnit}.\\n\")\n",
    "\n",
    "print(f\"The value of V3 is {round(V3, 4)} {sbUnit}.\\n\")"
   ]
  },
  {
   "cell_type": "markdown",
   "metadata": {},
   "source": [
    "### Determine the service time per visit (*Sk*)\n",
    "\n",
    "Use the following formula:\n",
    "$$S_k= \\frac{B_k} {C_k}$$"
   ]
  },
  {
   "cell_type": "code",
   "execution_count": 5,
   "metadata": {},
   "outputs": [
    {
     "name": "stdout",
     "output_type": "stream",
     "text": [
      "Introduce the value of S1 (seconds / accesses): 0.0256\n",
      "Correct! The value of S1 is0.0256 seconds / accesses.\n",
      "\n",
      "The value of S2 is 0.0271 seconds / accesses.\n",
      "\n",
      "The value of S3 is 0.0286 seconds / accesses.\n",
      "\n"
     ]
    }
   ],
   "source": [
    "iS1 = float(input(f\"Introduce the value of S1 ({tsUnit}): \"))\n",
    "checkValue(S1, iS1, \"S1\", tsUnit)\n",
    "\n",
    "print(f\"The value of S2 is {round(S2, 4)} {tsUnit}.\\n\")\n",
    "\n",
    "print(f\"The value of S3 is {round(S3, 4)} {tsUnit}.\\n\")"
   ]
  },
  {
   "cell_type": "markdown",
   "metadata": {},
   "source": [
    "### Determine the service demands (*Dk*)\n",
    "\n",
    "Use the following formula:\n",
    "$$D_k= \\frac{B_k} {C}$$"
   ]
  },
  {
   "cell_type": "code",
   "execution_count": 6,
   "metadata": {},
   "outputs": [
    {
     "name": "stdout",
     "output_type": "stream",
     "text": [
      "Introduce the value of D1 (seconds / transactions): 0.575\n",
      "Correct! The value of D1 is0.575 seconds / transactions.\n",
      "\n",
      "The value of D2 is 0.475 seconds / transactions.\n",
      "\n",
      "The value of D3 is 0.25 seconds / transactions.\n",
      "\n"
     ]
    }
   ],
   "source": [
    "iD1 = float(input(f\"Introduce the value of D1 ({tbUnit}): \"))\n",
    "checkValue(D1, iD1, \"D1\", tbUnit)\n",
    "\n",
    "print(f\"The value of D2 is {round(D2, 4)} {tbUnit}.\\n\")\n",
    "\n",
    "print(f\"The value of D3 is {round(D3, 4)} {tbUnit}.\\n\")"
   ]
  },
  {
   "cell_type": "markdown",
   "metadata": {},
   "source": [
    "### Determine the sum of service demands (*D*)\n",
    "\n",
    "Use the following formula:\n",
    "$$D= \\sum_{k=1}^{n} D_k$$"
   ]
  },
  {
   "cell_type": "code",
   "execution_count": 7,
   "metadata": {},
   "outputs": [
    {
     "name": "stdout",
     "output_type": "stream",
     "text": [
      "Introduce the value of D (seconds / transactions): 1.3\n",
      "Correct! The value of D is1.3 seconds / transactions.\n",
      "\n"
     ]
    }
   ],
   "source": [
    "iD = float(input(f\"Introduce the value of D ({tbUnit}): \"))\n",
    "checkValue(D, iD, \"D\", tbUnit)"
   ]
  },
  {
   "cell_type": "markdown",
   "metadata": {},
   "source": [
    "## Optimistic and pessimistic asymptotic bounds\n",
    "### Throughput\n",
    "#### Batch\n",
    "$$ \\frac {1}{D} \\leq X(N) \\leq min(\\frac{N}{D}, \\frac {1}{D_{max}}) $$\n",
    "#### Terminal\n",
    "$$ \\frac {N}{ND + Z} \\leq X(N) \\leq min(\\frac {N}{D + Z}, \\frac {1}{D_{max}})$$\n",
    "#### Transaction\n",
    "$$\\frac{D}{1 - \\lambda D_{avg}} \\leq R(\\lambda) \\leq \\frac{D}{1 - \\lambda D_{max}}$$\n",
    "### Response Time\n",
    "#### Batch\n",
    "$$ max(D, ND_{max}) \\leq R(N) \\leq ND $$\n",
    "#### Terminal\n",
    "$$ max(D, ND_{max} - Z)\\leq R(N) \\leq ND$$\n",
    "#### Transaction\n",
    "$$D \\leq R(\\lambda)$$"
   ]
  },
  {
   "cell_type": "markdown",
   "metadata": {},
   "source": [
    "### What would be the throughput and response time of this system?\n",
    "#### Consider that the amount of *terminals* has not changed."
   ]
  },
  {
   "cell_type": "code",
   "execution_count": 8,
   "metadata": {},
   "outputs": [
    {
     "name": "stdout",
     "output_type": "stream",
     "text": [
      "Insert the optimistic throughput (transactions / seconds): 18.7692\n",
      "Insert the pessimistic throughput (transactions / seconds): 1.7391\n",
      "Insert the optimistic response time (seconds): 7.875\n",
      "Insert the pessimistic response time (seconds): 58.5\n",
      "Correct! The value of Optimistic throughput is18.7692 transactions / seconds.\n",
      "\n",
      "Correct! The value of Pessimistic throughput is1.7391 transactions / seconds.\n",
      "\n",
      "Correct! The value of Optimistic response time is7.875 seconds.\n",
      "\n",
      "Correct! The value of Pessimistic response time is58.5 seconds.\n",
      "\n"
     ]
    }
   ],
   "source": [
    "XO45 = (N) / (N*D) + Z\n",
    "XP45 = min(N / (D+Z), 1 / Dmax)\n",
    "RO45 = max(D, (N*Dmax) - Z)\n",
    "RP45 = N*D\n",
    "\n",
    "iXO45 = float(input(f\"Insert the optimistic throughput ({btUnit}): \"))\n",
    "iXP45 = float(input(f\"Insert the pessimistic throughput ({btUnit}): \"))\n",
    "iRO45 = float(input(f\"Insert the optimistic response time ({tUnit}): \"))\n",
    "iRP45 = float(input(f\"Insert the pessimistic response time ({tUnit}): \"))\n",
    "checkValue(XO45, iXO45, \"Optimistic throughput\", btUnit)\n",
    "checkValue(XP45, iXP45, \"Pessimistic throughput\", btUnit)\n",
    "checkValue(RO45, iRO45, \"Optimistic response time\", tUnit)\n",
    "checkValue(RP45, iRP45, \"Pessimistic response time\", tUnit)"
   ]
  },
  {
   "cell_type": "markdown",
   "metadata": {},
   "source": [
    "### What would be the throughput and response time if the number of terminals was different?\n",
    "#### The N will be the only different value so let us do these calculations."
   ]
  },
  {
   "cell_type": "code",
   "execution_count": 9,
   "metadata": {},
   "outputs": [
    {
     "name": "stdout",
     "output_type": "stream",
     "text": [
      "Insert the new amount of terminals (transactions): 10\n",
      "The value of the new optimistic throughput is 18.7692 transactions / seconds.\n",
      "\n",
      "The value of the new pessimistic throughput is 0.5181 transactions / seconds.\n",
      "\n",
      "The value of the new optimistic response time is 1.3 seconds.\n",
      "\n",
      "The value of the new pessimistic response time is 13.0 seconds.\n",
      "\n"
     ]
    }
   ],
   "source": [
    "vN = float(input(f\"Insert the new amount of terminals ({bUnit}): \"))\n",
    "vXO = (vN) / (vN*D) + Z\n",
    "vXP = min(vN / (D+Z), 1 / Dmax)\n",
    "vRO = max(D, (vN*Dmax) - Z)\n",
    "vRP = vN*D\n",
    "\n",
    "print(f\"The value of the new optimistic throughput is {round(vXO, 4)} {btUnit}.\\n\")\n",
    "print(f\"The value of the new pessimistic throughput is {round(vXP, 4)} {btUnit}.\\n\")\n",
    "print(f\"The value of the new optimistic response time is {round(vRO, 4)} {tUnit}.\\n\")\n",
    "print(f\"The value of the new pessimistic response time is {round(vRP, 4)} {tUnit}.\\n\")"
   ]
  },
  {
   "cell_type": "markdown",
   "metadata": {},
   "source": [
    "## Balanced system bounds"
   ]
  },
  {
   "cell_type": "markdown",
   "metadata": {},
   "source": [
    "Consider a system with the following characteristics:\n",
    "\n",
    "* Active terminals: 20\n",
    "* Think time: 15 seconds\n",
    "* Number of visits Disk 1: 40 accesses / transactions\n",
    "* Number of visits Disk 2: 30 accesses / transactions\n",
    "* Number of visits Disk 3: 45 accesses / transactions\n",
    "* Service time per visit Disk 1: 0.08 seconds / accesses\n",
    "* Service time per visit Disk 2: 0.05 seconds / accesses\n",
    "* Service time per visit Disk 3: 0.06 seconds / accesses\n",
    "* Service demands Disk 1: 3.2 seconds / transactions\n",
    "* Service demands Disk 2: 1.5 seconds / transactions\n",
    "* Service demands Disk 3: 2.7 seconds / transactions"
   ]
  },
  {
   "cell_type": "markdown",
   "metadata": {},
   "source": [
    "### Balance demands\n",
    "Use the following formula to balance the demands from *k* disks.\n",
    "$$D_k [\\frac {1} {\\sum_{k=1}^{n} S_k}] = \\sum_{k=1}^{n} V_k$$"
   ]
  },
  {
   "cell_type": "code",
   "execution_count": 10,
   "metadata": {},
   "outputs": [
    {
     "name": "stdout",
     "output_type": "stream",
     "text": [
      "What is the new service demand for Disk 1 (seconds / transactions): 1949.1667\n",
      "Correct! The value of D1 is1949.1667 seconds / transactions.\n",
      "\n",
      "The value of the new service demand for Disk 2 and Disk 3 is also 1949.1667 seconds / transactions.\n",
      "\n"
     ]
    }
   ],
   "source": [
    "N = 20.0\n",
    "Z = 15.0\n",
    "V1 = 40.0\n",
    "V2 = 30.0\n",
    "V3 = 45.0\n",
    "S1 = 0.08\n",
    "S2 = 0.05\n",
    "S3 = 0.06\n",
    "D1 = ((1.0/S1) + (1.0/S2) + (1.0/S3) * (V1 + V2 + V3))\n",
    "D2 = D1\n",
    "D3 = D1\n",
    "D = D1 * 3\n",
    "Dmax = D1\n",
    "Dave = D1\n",
    "\n",
    "iD1 = float(input(f\"What is the new service demand for Disk 1 ({tbUnit}): \"))\n",
    "checkValue(D1, iD1, \"D1\", tbUnit)\n",
    "print(f\"The value of the new service demand for Disk 2 and Disk 3 is also {round(D2, 4)} {tbUnit}.\\n\")"
   ]
  },
  {
   "cell_type": "markdown",
   "metadata": {},
   "source": [
    "## Optimistic and pessimistic balanced bounds\n",
    "### Throughput\n",
    "#### Batch\n",
    "$$ \\frac {N}{D + (N-1)D_{max}} \\leq X(N) \\leq min(\\frac {1}{D_{max}}, \\frac {N}{D + (N - 1)D_{ave}}) $$\n",
    "#### Terminal\n",
    "$$ \\frac {N}{D + Z + \\frac{(N - 1)D_{max}}{1 + \\frac{Z}{ND}}} \\leq X(N) \\leq min(\\frac {1}{D_{max}}, \\frac {N}{D + Z + \\frac{(N - 1)D_{ave}}{1 + \\frac{Z}{D}}})$$\n",
    "#### Transaction\n",
    "$$\\frac{D}{1 - \\lambda D_{avg}} \\leq R(\\lambda) \\leq \\frac{D}{1 - \\lambda D_{max}}$$\n",
    "### Response Time\n",
    "#### Batch\n",
    "$$ max(ND_{max}, D + (N - 1) D_{ave}) \\leq R(N) \\leq D + (N - 1) D_{max} $$\n",
    "#### Terminal\n",
    "$$ max(ND_{max} - Z, D + \\frac {(N-1)D_{ave}}{1 + \\frac {Z}{D}})\\leq R(N) \\leq D + \\frac {(N-1)D_{max}}{1 + \\frac {Z}{ND}}$$\n",
    "#### Transaction\n",
    "$$X(\\lambda) \\leq 1 / D_{max}$$"
   ]
  },
  {
   "cell_type": "markdown",
   "metadata": {},
   "source": [
    "### What would be the throughput and response time of this balanced system?\n",
    "#### Take into account that we are using *terminals*"
   ]
  },
  {
   "cell_type": "code",
   "execution_count": 11,
   "metadata": {},
   "outputs": [
    {
     "name": "stdout",
     "output_type": "stream",
     "text": [
      "Insert the optimistic throughput (transactions / seconds): 0.0005\n",
      "Insert the pessimistic throughput (transactions / seconds): 0.0005\n",
      "Insert the optimistic response time (seconds): 42876.9173\n",
      "Insert the pessimistic response time (seconds): 42881.6692\n",
      "Correct! The value of Optimistic throughput is0.0005 transactions / seconds.\n",
      "\n",
      "Correct! The value of Pessimistic throughput is0.0005 transactions / seconds.\n",
      "\n",
      "Correct! The value of Optimistic response time is42876.9173 seconds.\n",
      "\n",
      "Correct! The value of Pessimistic response time is42881.6692 seconds.\n",
      "\n"
     ]
    }
   ],
   "source": [
    "XP = min(1.0 / Dmax, N / (D + Z + ((N - 1.0)* Dave)/ 1.0 + (Z / D)))\n",
    "XO = N / (D + Z + ((N - 1.0)* Dmax)/ 1.0 + (Z/(N*D)))\n",
    "RP = max(N * Dmax - Z, D + ((((N - 1.0) * Dave)) / 1.0 + (Z / D)))\n",
    "RO = D + (((N - 1.0) * Dmax) / (1.0 + Z / (N * D)))\n",
    "\n",
    "iXO = float(input(f\"Insert the optimistic throughput ({btUnit}): \"))\n",
    "iXP = float(input(f\"Insert the pessimistic throughput ({btUnit}): \"))\n",
    "iRO = float(input(f\"Insert the optimistic response time ({tUnit}): \"))\n",
    "iRP = float(input(f\"Insert the pessimistic response time ({tUnit}): \"))\n",
    "checkValue(XO, iXO, \"Optimistic throughput\", btUnit)\n",
    "checkValue(XP, iXP, \"Pessimistic throughput\", btUnit)\n",
    "checkValue(RO, iRO, \"Optimistic response time\", tUnit)\n",
    "checkValue(RP, iRP, \"Pessimistic response time\", tUnit)"
   ]
  }
 ],
 "metadata": {
  "kernelspec": {
   "display_name": "Python 3",
   "language": "python",
   "name": "python3"
  },
  "language_info": {
   "codemirror_mode": {
    "name": "ipython",
    "version": 3
   },
   "file_extension": ".py",
   "mimetype": "text/x-python",
   "name": "python",
   "nbconvert_exporter": "python",
   "pygments_lexer": "ipython3",
   "version": "3.7.2"
  }
 },
 "nbformat": 4,
 "nbformat_minor": 2
}
